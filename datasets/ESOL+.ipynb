{
 "cells": [
  {
   "cell_type": "code",
   "execution_count": null,
   "metadata": {},
   "outputs": [],
   "source": [
    "import numpy as np\n",
    "import pandas as pd\n",
    "import torch\n",
    "from rdkit.Chem import MolFromSmiles, QED, rdMolDescriptors, Descriptors\n",
    "from rdkit.Chem.rdFingerprintGenerator import GetMorganGenerator\n",
    "from gauche.representations.fingerprints import fragments\n",
    "\n",
    "# Load and clean data\n",
    "original = pd.read_csv('ESOL_dataset.txt', delimiter=',')\n",
    "original = original.dropna()\n",
    "smiles = original['SMILES']\n",
    "assert len(smiles) == 1144, f\"Expected 1144 molecules, got {len(smiles)}\"\n",
    "\n",
    "# Create molecule objects with error handling\n",
    "molecules = []\n",
    "invalid_smiles = []\n",
    "for i, s in enumerate(smiles):\n",
    "    try:\n",
    "        mol = MolFromSmiles(s)\n",
    "        if mol is not None:\n",
    "            molecules.append(mol)\n",
    "        else:\n",
    "            invalid_smiles.append((i, s))\n",
    "    except:\n",
    "        invalid_smiles.append((i, s))\n",
    "\n",
    "if invalid_smiles:\n",
    "    print(f\"Warning: {len(invalid_smiles)} invalid SMILES strings found\")\n",
    "\n",
    "# Generate features\n",
    "generator = GetMorganGenerator(radius=3, fpSize=2048)\n",
    "fps = [generator.GetFingerprint(mol) for mol in molecules]\n",
    "fps_array = np.array(fps)\n",
    "frag = fragments(smiles=smiles)\n",
    "domain = torch.from_numpy(np.concatenate((fps_array, frag), axis=1)).float()\n",
    "\n",
    "# Generate targets\n",
    "qed = np.array([QED.qed(mol) for mol in molecules]).reshape(-1, 1)\n",
    "tpsa = np.array([rdMolDescriptors.CalcTPSA(mol) for mol in molecules]).reshape(-1, 1)\n",
    "logSOL = np.array(original['measured log(solubility:mol/L)']).reshape(-1, 1)\n",
    "logp = np.array([Descriptors.MolLogP(mol) for mol in molecules]).reshape(-1, 1)\n",
    "target = torch.from_numpy(np.concatenate((logp, qed, tpsa, logSOL), axis=1)).float()\n",
    "\n",
    "# Verify dimensions\n",
    "assert domain.shape[0] == target.shape[0], \"Mismatch between domain and target samples\"\n",
    "assert domain.shape[1] == 2133, \"Expected 2048 + 85 = 2133 features\"\n",
    "assert target.shape[1] == 4, \"Expected 4 target variables (logP, QED, TPSA, logSOL)\"\n",
    "\n",
    "print(f\"Domain shape: {domain.shape}\")\n",
    "print(f\"Target shape: {target.shape}\")"
   ]
  }
 ],
 "metadata": {
  "kernelspec": {
   "display_name": "Python 3",
   "language": "python",
   "name": "python3"
  },
  "language_info": {
   "codemirror_mode": {
    "name": "ipython",
    "version": 3
   },
   "file_extension": ".py",
   "mimetype": "text/x-python",
   "name": "python",
   "nbconvert_exporter": "python",
   "pygments_lexer": "ipython3",
   "version": "3.10.6"
  }
 },
 "nbformat": 4,
 "nbformat_minor": 2
}
