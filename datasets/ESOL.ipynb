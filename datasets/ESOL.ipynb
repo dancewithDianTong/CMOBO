  {
   "cell_type": "code",
   "execution_count": 10,
   "metadata": {},
   "outputs": [],
   "source": [
    "from rdkit.Chem.rdFingerprintGenerator import GetMorganGenerator\n",
    "from rdkit.Chem import MolFromSmiles\n",
    "from rdkit.Chem import  QED\n",
    "from rdkit.Chem import  rdMolDescriptors\n",
    "from rdkit.Chem import Descriptors\n",
    "import numpy as np\n",
    "import pandas as pd\n",
    "# from gauche.dataloader import DataLoaderMP\n",
    "from gauche.dataloader import MolPropLoader\n",
    "from gauche.representations.fingerprints import (\n",
    "    # ecfp_fingerprints,\n",
    "    fragments,\n",
    "    mqn_features,\n",
    "    )\n",
    "from gauche.representations.strings import bag_of_characters\n",
    "from gauche.representations.graphs import molecular_graphs"
   ]
  },
  {
   "cell_type": "markdown",
   "metadata": {},
   "source": [
    "Domain: fragprints\n",
    "\n",
    "target:\n",
    "\n",
    "- meaured log (solubility)\n",
    "- logP\n",
    "- drug-likeliness\n",
    "- TPSA"
   ]
  },
  {
   "cell_type": "code",
   "execution_count": 26,
   "metadata": {},
   "outputs": [],
   "source": [
    "original = pd.read_csv('ESOL_dataset.txt', delimiter= ',')\n",
    "original = original.dropna()\n",
    "smiles = original['SMILES']\n",
    "\n",
    "#molecule objects in rdkit\n",
    "molecules = [MolFromSmiles(s) for s in smiles]\n",
    "\n",
    "#define Morgen generator\n",
    "generator = GetMorganGenerator(radius = 3, fpSize = 2048)\n",
    "\n",
    "#get finger prints\n",
    "fps = [generator.GetFingerprint(mol) for mol in molecules]\n",
    "fps_array = np.array(fps)"
   ]
  },
  {
   "cell_type": "markdown",
   "metadata": {},
   "source": [
    "fragments\n",
    "\n",
    "shape: 1144 by 85"
   ]
  },
  {
   "cell_type": "code",
   "execution_count": 28,
   "metadata": {},
   "outputs": [],
   "source": [
    "#return np.array \n",
    "frag = fragments(smiles= smiles)"
   ]
  },
  {
   "cell_type": "code",
   "execution_count": 29,
   "metadata": {},
   "outputs": [
    {
     "data": {
      "text/plain": [
       "(1144, 85)"
      ]
     },
     "execution_count": 29,
     "metadata": {},
     "output_type": "execute_result"
    }
   ],
   "source": [
    "frag.shape"
   ]
  },
  {
   "cell_type": "markdown",
   "metadata": {},
   "source": [
    "Synthesized Domain\n",
    "\n",
    "1144, 2133"
   ]
  },
  {
   "cell_type": "code",
   "execution_count": 30,
   "metadata": {},
   "outputs": [],
   "source": [
    "domain = np.concatenate((fps_array, frag), axis = 1)"
   ]
  },
  {
   "cell_type": "code",
   "execution_count": 38,
   "metadata": {},
   "outputs": [],
   "source": [
    "import torch\n",
    "domain = torch.tensor(domain)"
   ]
  },
  {
   "cell_type": "markdown",
   "metadata": {},
   "source": [
    "Targets"
   ]
  },
  {
   "cell_type": "markdown",
   "metadata": {},
   "source": [
    "QED score"
   ]
  },
  {
   "cell_type": "code",
   "execution_count": 17,
   "metadata": {},
   "outputs": [],
   "source": [
    "qed = np.array([QED.qed(mol) for mol in molecules]).reshape((1144,-1))"
   ]
  },
  {
   "cell_type": "markdown",
   "metadata": {},
   "source": [
    "TPSA"
   ]
  },
  {
   "cell_type": "code",
   "execution_count": 21,
   "metadata": {},
   "outputs": [],
   "source": [
    "tpsa = np.array([rdMolDescriptors.CalcTPSA(mol) for mol in molecules]).reshape((1144,-1))"
   ]
  },
  {
   "cell_type": "markdown",
   "metadata": {},
   "source": [
    "Log solubility"
   ]
  },
  {
   "cell_type": "code",
   "execution_count": 32,
   "metadata": {},
   "outputs": [],
   "source": [
    "logSOL = np.array(original['measured log(solubility:mol/L)']).reshape((1144,-1))"
   ]
  },
  {
   "cell_type": "code",
   "execution_count": 36,
   "metadata": {},
   "outputs": [],
   "source": [
    "logp  = np.array([Descriptors.MolLogP(mol) for mol in molecules]).reshape((1144,-1))"
   ]
  },
  {
   "cell_type": "code",
   "execution_count": 37,
   "metadata": {},
   "outputs": [],
   "source": [
    "target = np.concatenate((logp, qed, tpsa, logSOL), axis = 1)"
   ]
  },
  {
   "cell_type": "code",
   "execution_count": 43,
   "metadata": {},
   "outputs": [],
   "source": [
    "target = torch.tensor(target)\n"
   ]
  }
 ],
 "metadata": {
  "kernelspec": {
   "display_name": "Python 3",
   "language": "python",
   "name": "python3"
  },
  "language_info": {
   "codemirror_mode": {
    "name": "ipython",
    "version": 3
   },
   "file_extension": ".py",
   "mimetype": "text/x-python",
   "name": "python",
   "nbconvert_exporter": "python",
   "pygments_lexer": "ipython3",
   "version": "3.10.6"
  }
 },
 "nbformat": 4,
 "nbformat_minor": 2
}
